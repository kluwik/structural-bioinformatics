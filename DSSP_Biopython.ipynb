{
 "cells": [
  {
   "cell_type": "markdown",
   "id": "7b74f139",
   "metadata": {},
   "source": [
    "# DSSP\n",
    "\n",
    "Annotation of secondary structure, solvent accessibility and more.\n",
    "\n",
    "Biopython DSSP module documentation: https://biopython.org/docs/1.75/api/Bio.PDB.DSSP.html\n",
    "\n",
    "DSSP:\n",
    "\n",
    "- Webserver: https://www3.cmbi.umcn.nl/xssp/\n",
    "\n",
    "- Documentation: https://swift.cmbi.umcn.nl/gv/dssp/\n",
    "\n",
    "- Download: https://github.com/cmbi/dssp"
   ]
  },
  {
   "cell_type": "markdown",
   "id": "57016dee",
   "metadata": {},
   "source": [
    "## 1. From PDB file"
   ]
  },
  {
   "cell_type": "markdown",
   "id": "cce0bb78-5b4e-4353-830b-9944a1b29faf",
   "metadata": {},
   "source": [
    "! Installed DSSP program is required.\n",
    "\n",
    "If you have DSSP installed locally, you can obtain DSSP annotation using `dssp_dict_from_pdb_file()` for the given PDB file."
   ]
  },
  {
   "cell_type": "code",
   "execution_count": 1,
   "id": "4887f304",
   "metadata": {},
   "outputs": [
    {
     "name": "stdout",
     "output_type": "stream",
     "text": [
      "--2022-05-06 01:07:38--  https://files.rcsb.org/download/1A1L.pdb\n",
      "Resolving files.rcsb.org (files.rcsb.org)... 128.6.158.49\n",
      "Connecting to files.rcsb.org (files.rcsb.org)|128.6.158.49|:443... connected.\n",
      "HTTP request sent, awaiting response... 200 OK\n",
      "Length: unspecified [application/octet-stream]\n",
      "Saving to: '1A1L.pdb'\n",
      "\n",
      "1A1L.pdb                [  <=>               ] 133.76K   377KB/s    in 0.4s    \n",
      "\n",
      "2022-05-06 01:07:39 (377 KB/s) - '1A1L.pdb' saved [136971]\n",
      "\n"
     ]
    }
   ],
   "source": [
    "!wget https://files.rcsb.org/download/1A1L.pdb"
   ]
  },
  {
   "cell_type": "code",
   "execution_count": 2,
   "id": "442f3b73-8aa3-4cee-a296-4d396068192d",
   "metadata": {},
   "outputs": [],
   "source": [
    "from Bio.PDB.DSSP import *"
   ]
  },
  {
   "cell_type": "code",
   "execution_count": 32,
   "id": "46eaa05a",
   "metadata": {},
   "outputs": [],
   "source": [
    "file = '1A1L.pdb'\n",
    "# the function returns a tuple where the first and the only element is a dictionary\n",
    "dssp = dssp_dict_from_pdb_file(file)[0]"
   ]
  },
  {
   "cell_type": "markdown",
   "id": "dc668049",
   "metadata": {},
   "source": [
    "### DSSP object\n",
    "\n",
    "A dictionary with the information for every residue. Both keys and values are tuples.\n",
    "\n",
    "**Elements of keys:**\n",
    "\n",
    "0 - chain identifier \\\n",
    "1 - tuple, where the second element is residue number \n",
    "\n",
    "**Elements of values:**\n",
    "\n",
    "0 - Amino acid \\\n",
    "1 - Secondary structure \\\n",
    "2 - Relative ASA \\\n",
    "3 - Phi \\\n",
    "4 - Psi \\\n",
    "5 - Residue index \\\n",
    "6 - NH–>O_1_relidx \\\n",
    "7 - NH–>O_1_energy \\\n",
    "8 - O–>NH_1_relidx \\\n",
    "9 - O–>NH_1_energy \\\n",
    "10 - NH–>O_2_relidx \\\n",
    "11 - NH–>O_2_energy \\\n",
    "12 - O–>NH_2_relidx \\\n",
    "13 - O–>NH_2_energy"
   ]
  },
  {
   "cell_type": "markdown",
   "id": "d63a7eca",
   "metadata": {},
   "source": [
    "### Secondary structure\n",
    "\n",
    "\n",
    "H - Alpha helix (4-12) \\\n",
    "B - Isolated beta-bridge residue \\\n",
    "E - Strand \\\n",
    "G - 3-10 helix \\\n",
    "I - Pi helix \\\n",
    "T - Turn \\\n",
    "S - Bend \\\n",
    "&ndash; - None "
   ]
  },
  {
   "cell_type": "code",
   "execution_count": 5,
   "id": "df7f4b79",
   "metadata": {
    "scrolled": true
   },
   "outputs": [
    {
     "name": "stdout",
     "output_type": "stream",
     "text": [
      "('A', (' ', 103, ' '))\n"
     ]
    }
   ],
   "source": [
    "for i in dssp:\n",
    "    print(i)\n",
    "    break"
   ]
  },
  {
   "cell_type": "code",
   "execution_count": 7,
   "id": "580ab5f0",
   "metadata": {
    "scrolled": true
   },
   "outputs": [
    {
     "name": "stdout",
     "output_type": "stream",
     "text": [
      "('A', (' ', 103, ' ')) ('R', '-', 186, 360.0, 77.2, 1, 0, 0.0, 14, -0.2, 0, 0.0, 15, -0.1)\n"
     ]
    }
   ],
   "source": [
    "for keys, values in dssp.items():\n",
    "    print(keys, values)\n",
    "    break"
   ]
  },
  {
   "cell_type": "code",
   "execution_count": 11,
   "id": "a7182bfb",
   "metadata": {
    "scrolled": true
   },
   "outputs": [
    {
     "name": "stdout",
     "output_type": "stream",
     "text": [
      "residue Y 105 chain A\n",
      "residue A 106 chain A\n",
      "residue R 115 chain A\n",
      "residue F 116 chain A\n",
      "residue F 135 chain A\n",
      "residue Q 136 chain A\n",
      "residue N 143 chain A\n",
      "residue F 144 chain A\n",
      "residue F 163 chain A\n",
      "residue A 164 chain A\n",
      "residue K 171 chain A\n",
      "residue F 172 chain A\n"
     ]
    }
   ],
   "source": [
    "# print residues involved in a strand\n",
    "\n",
    "for keys, values in dssp.items():\n",
    "    chain = keys[0]\n",
    "    res = keys[1][1]\n",
    "    aa = values[0]\n",
    "    ss = values[1]\n",
    "    if ss == 'E':\n",
    "        print('residue', aa, res, 'chain', chain)"
   ]
  },
  {
   "cell_type": "markdown",
   "id": "d03e62a9",
   "metadata": {},
   "source": [
    "##  2. From DSSP file\n",
    "\n",
    "You can generate DSSP file or download it from DSSP database and parse it using `make_dssp_dict()`.\n",
    "\n",
    "Documentation: https://biopython.org/docs/1.75/api/Bio.PDB.DSSP.html#Bio.PDB.DSSP.make_dssp_dict"
   ]
  },
  {
   "cell_type": "code",
   "execution_count": 12,
   "id": "4db565e2",
   "metadata": {},
   "outputs": [],
   "source": [
    "!mkdssp -i 1A1L.pdb -o 1A1L.dssp"
   ]
  },
  {
   "cell_type": "code",
   "execution_count": 36,
   "id": "abf99ecd",
   "metadata": {},
   "outputs": [
    {
     "name": "stdout",
     "output_type": "stream",
     "text": [
      "(('A', (' ', 103, ' ')), ('R', '-', 186, 360.0, 77.2, 1, 0, 0.0, 14, -0.2, 0, 0.0, 15, -0.1))\n"
     ]
    }
   ],
   "source": [
    "dssp_dict = make_dssp_dict('1A1L.dssp')[0]\n",
    "for i in dssp_dict.items():\n",
    "    print(i)\n",
    "    break"
   ]
  },
  {
   "cell_type": "markdown",
   "id": "e38db737-656b-4b68-90d0-6bf8b51fe94f",
   "metadata": {},
   "source": [
    "<img src=\"dssp.png\" width='900px'>"
   ]
  },
  {
   "cell_type": "markdown",
   "id": "64a2e16e-a94e-4a4c-b496-6a7b240d629f",
   "metadata": {
    "tags": []
   },
   "source": [
    "## 3. From structure object\n",
    "\n",
    "! Installed DSSP program is required.\n",
    "\n",
    "Another way to parse DSSP is to, firstly, parse the PDB structure, and then generate secondary structure annotation using `DSSP()`. In this case the output will be a dictionary, but, in contrast to the previous outputs, the residue index will be the first element (not sixth) and instead of absolute values of accessible surface area there will be values of relative ASA. By default the `acc_array` parameter is `\"Sander\"` - the max ASA values from Sander & Rost (1994). See other options: https://biopython.org/docs/1.75/api/Bio.PDB.DSSP.html#Bio.PDB.DSSP.DSSP."
   ]
  },
  {
   "cell_type": "code",
   "execution_count": 37,
   "id": "a2d5aa58-8809-47bf-94ae-4bcfa6f49ba7",
   "metadata": {},
   "outputs": [
    {
     "name": "stderr",
     "output_type": "stream",
     "text": [
      "/usr/local/lib64/python3.6/site-packages/Bio/PDB/StructureBuilder.py:92: PDBConstructionWarning: WARNING: Chain B is discontinuous at line 1574.\n",
      "  PDBConstructionWarning,\n",
      "/usr/local/lib64/python3.6/site-packages/Bio/PDB/StructureBuilder.py:92: PDBConstructionWarning: WARNING: Chain C is discontinuous at line 1595.\n",
      "  PDBConstructionWarning,\n",
      "/usr/local/lib64/python3.6/site-packages/Bio/PDB/StructureBuilder.py:92: PDBConstructionWarning: WARNING: Chain A is discontinuous at line 1609.\n",
      "  PDBConstructionWarning,\n"
     ]
    }
   ],
   "source": [
    "from Bio.PDB import PDBParser\n",
    "p = PDBParser()\n",
    "\n",
    "structure = p.get_structure(\"1A1L\", \"1A1L.pdb\")\n",
    "model = structure[0]"
   ]
  },
  {
   "cell_type": "code",
   "execution_count": 38,
   "id": "09d7bde1-4019-459c-85df-b96b0116ae04",
   "metadata": {},
   "outputs": [],
   "source": [
    "dssp = DSSP(model, \"1A1L.pdb\", acc_array='Miller')"
   ]
  },
  {
   "cell_type": "code",
   "execution_count": 39,
   "id": "dc78f7db-9fac-4618-aff0-8702c13f0663",
   "metadata": {},
   "outputs": [
    {
     "name": "stdout",
     "output_type": "stream",
     "text": [
      "(1, 'R', '-', 0.7717842323651453, 360.0, 77.2, 0, 0.0, 14, -0.2, 0, 0.0, 15, -0.1)\n"
     ]
    }
   ],
   "source": [
    "for i in dssp:\n",
    "    print(i)\n",
    "    break"
   ]
  },
  {
   "cell_type": "markdown",
   "id": "baf55a1b-be97-4d1c-b4b6-adda0030ab22",
   "metadata": {},
   "source": [
    "Print the proportions of exposed and buried residues:"
   ]
  },
  {
   "cell_type": "code",
   "execution_count": 40,
   "id": "9c0734a9-30a1-4c38-8631-558e39234377",
   "metadata": {},
   "outputs": [],
   "source": [
    "exposed, buried = 0, 0\n",
    "\n",
    "for i in dssp:\n",
    "    if i[3] >= 0.25:\n",
    "        exposed+=1\n",
    "    elif i[3] < 0.25:\n",
    "        buried+=1\n",
    "        \n",
    "e = exposed/len(dssp)\n",
    "b = buried/len(dssp)"
   ]
  },
  {
   "cell_type": "code",
   "execution_count": 41,
   "id": "22d718a3-c818-4c9f-a6d4-668e0e731ee4",
   "metadata": {},
   "outputs": [
    {
     "name": "stdout",
     "output_type": "stream",
     "text": [
      "Exposed: 79%\n",
      "Buried: 21%\n"
     ]
    }
   ],
   "source": [
    "print(\"Exposed: {0:.0%}\".format(e))\n",
    "print(\"Buried: {0:.0%}\".format(b))"
   ]
  }
 ],
 "metadata": {
  "kernelspec": {
   "display_name": "Python 3",
   "language": "python",
   "name": "python3"
  },
  "language_info": {
   "codemirror_mode": {
    "name": "ipython",
    "version": 3
   },
   "file_extension": ".py",
   "mimetype": "text/x-python",
   "name": "python",
   "nbconvert_exporter": "python",
   "pygments_lexer": "ipython3",
   "version": "3.8.8"
  }
 },
 "nbformat": 4,
 "nbformat_minor": 5
}
