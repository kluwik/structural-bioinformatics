{
 "cells": [
  {
   "cell_type": "markdown",
   "id": "509b3102-694c-470e-86a6-08e4d2d3abac",
   "metadata": {},
   "source": [
    "# Biopython for working with PDB files"
   ]
  },
  {
   "cell_type": "markdown",
   "id": "83995f49-738a-4867-89c3-0ed351ae8118",
   "metadata": {},
   "source": [
    "Useful links:\n",
    "\n",
    "- Ultimate tutorial on Biopython: http://biopython.org/DIST/docs/tutorial/Tutorial.html \n",
    "- Navigation through documentation, case examples: https://biopython.org/wiki/Documentation\n",
    "- Manual on PDB module: https://biopython.org/wiki/The_Biopython_Structural_Bioinformatics_FAQ"
   ]
  },
  {
   "cell_type": "markdown",
   "id": "3cc9d008-392a-47b5-80cc-1b3679d4fc61",
   "metadata": {
    "tags": []
   },
   "source": [
    "## 0. Installation "
   ]
  },
  {
   "cell_type": "code",
   "execution_count": null,
   "id": "c23fd54f-f1ee-4f88-9a4f-091a202dfb8e",
   "metadata": {},
   "outputs": [],
   "source": [
    "!pip install biopython"
   ]
  },
  {
   "cell_type": "markdown",
   "id": "09125e6b-514a-4df5-8a83-5d960721e6e5",
   "metadata": {},
   "source": [
    "## 1. Parse PDB file into structure object"
   ]
  },
  {
   "cell_type": "code",
   "execution_count": null,
   "id": "d29031bf-496a-412f-b343-9f00b5e357e0",
   "metadata": {},
   "outputs": [],
   "source": [
    "!wget https://files.rcsb.org/download/1brs.pdb"
   ]
  },
  {
   "cell_type": "code",
   "execution_count": null,
   "id": "55f9628c-7b8a-444d-a75b-fcc664ce21ed",
   "metadata": {},
   "outputs": [],
   "source": [
    "# Create PDBparser object\n",
    "from Bio.PDB.PDBParser import PDBParser\n",
    "p = PDBParser(QUIET=True) # silence warnings"
   ]
  },
  {
   "cell_type": "code",
   "execution_count": null,
   "id": "5006b260-9447-417d-ab17-478873010e94",
   "metadata": {
    "tags": []
   },
   "outputs": [],
   "source": [
    "# Create the structure object\n",
    "filename = '1brs.pdb'\n",
    "# The first argument is your custom name for the structure. It is rarely handy, so you may just leave it empty.\n",
    "structure = p.get_structure(' ', filename)"
   ]
  },
  {
   "cell_type": "markdown",
   "id": "afe58826-2c01-42ab-9ffe-39fa4fec32f7",
   "metadata": {},
   "source": [
    "## 2. PDB file header"
   ]
  },
  {
   "cell_type": "code",
   "execution_count": null,
   "id": "166b9d61-a1cf-44f6-bdc3-e8634efc5ccf",
   "metadata": {
    "tags": []
   },
   "outputs": [],
   "source": [
    "# self-explanatory keys of header dictionary\n",
    "structure.header.keys()"
   ]
  },
  {
   "cell_type": "code",
   "execution_count": null,
   "id": "2bd3806d-6b7e-46e3-bb4d-8b2a3460d46f",
   "metadata": {
    "tags": []
   },
   "outputs": [],
   "source": [
    "# method of structure determination\n",
    "structure.header['structure_method']"
   ]
  },
  {
   "cell_type": "code",
   "execution_count": null,
   "id": "515ed0de-b9ed-4f0b-ad0a-fe5e2cbb2d4a",
   "metadata": {},
   "outputs": [],
   "source": [
    "# print missing residues (chain, residue name, residue number) if any\n",
    "if structure.header['has_missing_residues'] == True:\n",
    "    missres = structure.header['missing_residues']\n",
    "    for res in missres:\n",
    "        print(res['chain'], res['res_name'], res['ssseq'])"
   ]
  },
  {
   "cell_type": "markdown",
   "id": "dd555e47-f867-425c-ad72-a9f7fb725372",
   "metadata": {},
   "source": [
    "## 3. Coordinate section"
   ]
  },
  {
   "cell_type": "markdown",
   "id": "cfe7ee3c-6da5-4ad3-917e-ea469471b805",
   "metadata": {},
   "source": [
    "Hierarchy of elemets in structure object:\n",
    "\n",
    "- A structure consists of models. In X-Ray and EM structures there is, as a rule, one model, in NMR - multiple models (conformers).\n",
    "- A model consists of chains. Chains are usually named by a single capital letter.\n",
    "- A chain consists of residues\n",
    "- A residue consists of atoms"
   ]
  },
  {
   "cell_type": "code",
   "execution_count": null,
   "id": "0e10a736-9424-4f9d-988b-63d7c2f73e70",
   "metadata": {
    "tags": []
   },
   "outputs": [],
   "source": [
    "for model in structure:\n",
    "    print(model)\n",
    "    for chain in model:\n",
    "        print(chain)\n",
    "        for residue in chain:\n",
    "            print(residue)\n",
    "            for atom in residue:\n",
    "                print(atom)"
   ]
  },
  {
   "cell_type": "markdown",
   "id": "255135f7-c2e3-4e9b-8666-a916c46c34e8",
   "metadata": {},
   "source": [
    "The nested for-loops in the code above are only for demonstration of structure object organization. In practice it is not convenient to iterate through all entities one by one. Accessing structure components by methods is more efficient:"
   ]
  },
  {
   "cell_type": "code",
   "execution_count": null,
   "id": "5ee7763d-432b-4629-b2e3-bf6c639090e2",
   "metadata": {
    "tags": []
   },
   "outputs": [],
   "source": [
    "atoms = structure.get_atoms()\n",
    "\n",
    "for atom in atoms:\n",
    "    print(atom.get_coord()) # get atom coordinates"
   ]
  },
  {
   "cell_type": "code",
   "execution_count": null,
   "id": "de7cf46f-8f4d-4358-abca-5e1d9960de75",
   "metadata": {
    "tags": []
   },
   "outputs": [],
   "source": [
    "for res in structure.get_residues():\n",
    "    print(res.get_full_id(), res.get_resname()) "
   ]
  },
  {
   "cell_type": "markdown",
   "id": "1ad733e3-3920-469f-8c3a-b3374b6cb763",
   "metadata": {},
   "source": [
    "Useful tip: to check methods and attributes of the objects, use `dir()`:"
   ]
  },
  {
   "cell_type": "code",
   "execution_count": null,
   "id": "95f94302-66a8-4c1f-9b20-97d0a05e9507",
   "metadata": {},
   "outputs": [],
   "source": [
    "for res in structure.get_residues():\n",
    "    print(dir(res)) \n",
    "    break"
   ]
  },
  {
   "cell_type": "markdown",
   "id": "2332fe1a-c042-4faf-bb56-39636ce3f2cd",
   "metadata": {
    "jupyter": {
     "outputs_hidden": true
    },
    "tags": []
   },
   "source": [
    "Alternative way to access structure components is slicing:"
   ]
  },
  {
   "cell_type": "code",
   "execution_count": null,
   "id": "38fe6ffa-ccf7-4cc8-a94c-d87d8aeeffa2",
   "metadata": {},
   "outputs": [],
   "source": [
    "# chain A of the first model\n",
    "chainA = structure[0]['A']\n",
    "\n",
    "for atom in chainA.get_atoms():\n",
    "    print(atom)\n",
    "    break"
   ]
  },
  {
   "cell_type": "code",
   "execution_count": null,
   "id": "0132c2b1-6b55-41d9-b3f1-f6f3359f168a",
   "metadata": {},
   "outputs": [],
   "source": [
    "# residue with the residue number 4 of chain F\n",
    "# mind that it is the residue insertion code in PDB file not python index\n",
    "res4 = structure[0]['F'][4]\n",
    "res4"
   ]
  },
  {
   "cell_type": "code",
   "execution_count": null,
   "id": "46e89ec8-bd02-4378-ba64-2c612dbab2cb",
   "metadata": {},
   "outputs": [],
   "source": [
    "res4.get_full_id() "
   ]
  },
  {
   "cell_type": "markdown",
   "id": "77977a61-4a16-4bdc-a468-93e04d99e553",
   "metadata": {},
   "source": [
    "The full id of the residue is a tuple with the following items:\n",
    "    \n",
    "0. structure name, that you specified when loading it using parser\n",
    "1. model id\n",
    "2. chain id\n",
    "3. tuple, where the 2nd element is the number of the residue"
   ]
  },
  {
   "cell_type": "code",
   "execution_count": null,
   "id": "0cc1f678-063c-4f56-aed5-c3dd50a99644",
   "metadata": {},
   "outputs": [],
   "source": [
    "res4.get_full_id()[3][1]"
   ]
  },
  {
   "cell_type": "markdown",
   "id": "6a4fdb4b-535d-4a43-9305-bbb6c5afd187",
   "metadata": {},
   "source": [
    "## 4. Save structure object to PDB file"
   ]
  },
  {
   "cell_type": "code",
   "execution_count": null,
   "id": "ca5f0ace-5ea6-4310-816d-8ccbc3c8c006",
   "metadata": {},
   "outputs": [],
   "source": [
    "from Bio.PDB.PDBIO import PDBIO\n",
    "io=PDBIO()"
   ]
  },
  {
   "cell_type": "markdown",
   "id": "6a9862a9-ff2b-4d21-ac7f-a1f7064b05e2",
   "metadata": {},
   "source": [
    "Specify the structure or the part of it you want to save in `.set_structure()`."
   ]
  },
  {
   "cell_type": "code",
   "execution_count": null,
   "id": "d9e0076e-fffb-4014-92e6-d3272534defb",
   "metadata": {},
   "outputs": [],
   "source": [
    "structure_to_save = structure[0]['F']\n",
    "io.set_structure(structure_to_save)\n",
    "name = '1brsF.pdb'\n",
    "io.save(name)"
   ]
  },
  {
   "cell_type": "markdown",
   "id": "3335ba3e-99b5-450d-8e2a-fa3728901925",
   "metadata": {
    "tags": []
   },
   "source": [
    "## 5. Extract sequence from structure\n",
    "\n",
    "Extract the sequence either from SEQRES record (`pdb-seqres`) or from ATOM record (`pdb-atom`). \n",
    "\n",
    "Sequence in SEQRES record is the sequence of the studied protein, while sequence from ATOM record is what was actually captured in the crystallographic experiment (if talking about X-ray determined structures). Some residues from SEQRES might be absent in the ATOM record since they are not resolved because of high flexibility or flaws of the experiment. SEQRES sequence may also differ from the sequence in reference databases, e.g. Uniprot. It might happen because researchers introduced mutations into the protein either to increase its stability in order to obtain a nice crystal for structure determination or to study the structure of this particular mutant.\n",
    "\n",
    "Read more about the differences in SEQRES and ATOM sequences:\n",
    "\n",
    "https://pdb101.rcsb.org/learn/guide-to-understanding-pdb-data/primary-sequences-and-the-pdb-format \\\n",
    "https://www.wwpdb.org/documentation/file-format-content/format33/sect3.html#SEQRES\n",
    "\n",
    "More examples with `SeqIO` module: https://biopython.org/docs/1.75/api/Bio.SeqIO.PdbIO.html"
   ]
  },
  {
   "cell_type": "code",
   "execution_count": null,
   "id": "cb9ab56d-d6a9-45bb-82e3-5b2f2711c5f9",
   "metadata": {},
   "outputs": [],
   "source": [
    "from Bio import SeqIO"
   ]
  },
  {
   "cell_type": "code",
   "execution_count": null,
   "id": "779d3633-96e2-457e-9368-b36ec2645c77",
   "metadata": {},
   "outputs": [],
   "source": [
    "for record in SeqIO.parse(filename, \"pdb-seqres\"):\n",
    "    print(record.annotations['chain'], record.seq)"
   ]
  },
  {
   "cell_type": "code",
   "execution_count": null,
   "id": "fbd2ed87-e94e-429d-b70a-60846c955f91",
   "metadata": {},
   "outputs": [],
   "source": [
    "for record in SeqIO.parse(filename, \"pdb-atom\"):\n",
    "    print(record.annotations['chain'], record.seq)"
   ]
  },
  {
   "cell_type": "code",
   "execution_count": null,
   "id": "1769aa17-521e-4609-8d30-519841fcc042",
   "metadata": {},
   "outputs": [],
   "source": [
    "for record in SeqIO.parse(filename, \"pdb-atom\"):\n",
    "    if record.annotations['chain'] == 'C':\n",
    "        seq = record.seq\n",
    "        print(seq)"
   ]
  },
  {
   "cell_type": "markdown",
   "id": "a8e5232c-f08f-4757-94a4-3feadc431b60",
   "metadata": {},
   "source": [
    "## 6. Save sequence to fasta file"
   ]
  },
  {
   "cell_type": "code",
   "execution_count": null,
   "id": "b60df348-3df4-4563-aa4f-e7bde91ef416",
   "metadata": {},
   "outputs": [],
   "source": [
    "for record in SeqIO.parse(filename, \"pdb-seqres\"):\n",
    "    if record.annotations['chain'] == 'A':\n",
    "        fasta = record\n",
    "        print(record.seq)"
   ]
  },
  {
   "cell_type": "code",
   "execution_count": null,
   "id": "690d94c5-6f92-4abc-abdc-5ad0839670f8",
   "metadata": {},
   "outputs": [],
   "source": [
    "SeqIO.write(fasta, \"1brs_A.fasta\", \"fasta\")"
   ]
  },
  {
   "cell_type": "markdown",
   "id": "fb5c2c5c-2044-4b2f-bebb-a31568db2186",
   "metadata": {},
   "source": [
    "## 7. More sequence-related data"
   ]
  },
  {
   "cell_type": "markdown",
   "id": "63a79891-cb58-421d-80f7-1e9f1bc573ca",
   "metadata": {},
   "source": [
    "Apart from sequence, `SeqIO.parse()` outputs other useful information:"
   ]
  },
  {
   "cell_type": "code",
   "execution_count": null,
   "id": "02c167fd-8333-46f8-8924-e7737ecaf4a5",
   "metadata": {},
   "outputs": [],
   "source": [
    "for record in SeqIO.parse(\"1brs.pdb\", \"pdb-seqres\"):\n",
    "    print('What is record:', dir(record))\n",
    "    print('Annotations:', record.annotations.keys())\n",
    "    break"
   ]
  },
  {
   "cell_type": "code",
   "execution_count": null,
   "id": "14fbac2a-78d8-4e1a-bbe2-873a98cf7e42",
   "metadata": {},
   "outputs": [],
   "source": [
    "for record in SeqIO.parse(\"1brs.pdb\", \"pdb-atom\"):\n",
    "    print('What is record:', dir(record))\n",
    "    print('Annotations:', record.annotations.keys())\n",
    "    break"
   ]
  },
  {
   "cell_type": "code",
   "execution_count": null,
   "id": "be25053d-5934-42ce-8ea1-767f692c7574",
   "metadata": {},
   "outputs": [],
   "source": [
    "# get uniprot accession number\n",
    "for record in SeqIO.parse(filename, \"pdb-seqres\"):\n",
    "    if record.annotations['chain'] == 'A':\n",
    "        ref = record.dbxrefs[0]\n",
    "        print(ref)"
   ]
  }
 ],
 "metadata": {
  "kernelspec": {
   "display_name": "Python 3 (ipykernel)",
   "language": "python",
   "name": "python3"
  },
  "language_info": {
   "codemirror_mode": {
    "name": "ipython",
    "version": 3
   },
   "file_extension": ".py",
   "mimetype": "text/x-python",
   "name": "python",
   "nbconvert_exporter": "python",
   "pygments_lexer": "ipython3",
   "version": "3.9.12"
  }
 },
 "nbformat": 4,
 "nbformat_minor": 5
}
