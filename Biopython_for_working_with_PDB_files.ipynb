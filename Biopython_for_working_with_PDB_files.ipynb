{
 "cells": [
  {
   "cell_type": "markdown",
   "id": "509b3102-694c-470e-86a6-08e4d2d3abac",
   "metadata": {},
   "source": [
    "# Biopython for working with PDB files"
   ]
  },
  {
   "cell_type": "markdown",
   "id": "83995f49-738a-4867-89c3-0ed351ae8118",
   "metadata": {},
   "source": [
    "## Useful links\n",
    "\n",
    "Ultimate tutorial on Biopython: http://biopython.org/DIST/docs/tutorial/Tutorial.html \n",
    "\n",
    "Navigation through documentation, case examples: https://biopython.org/wiki/Documentation\n",
    "\n",
    "Manual on PDB module: https://biopython.org/wiki/The_Biopython_Structural_Bioinformatics_FAQ"
   ]
  },
  {
   "cell_type": "markdown",
   "id": "3cc9d008-392a-47b5-80cc-1b3679d4fc61",
   "metadata": {},
   "source": [
    "## 0. Installation \n",
    "\n",
    "Install via `pip` or `conda`:"
   ]
  },
  {
   "cell_type": "code",
   "execution_count": null,
   "id": "c23fd54f-f1ee-4f88-9a4f-091a202dfb8e",
   "metadata": {},
   "outputs": [],
   "source": [
    "!pip install biopython"
   ]
  },
  {
   "cell_type": "code",
   "execution_count": null,
   "id": "d972c8ae-fb43-4ff7-9035-8d4c848b1251",
   "metadata": {},
   "outputs": [],
   "source": [
    "!conda install -c conda-forge biopython"
   ]
  },
  {
   "cell_type": "markdown",
   "id": "455e0c56-f361-43f4-86bb-4b132d6a679d",
   "metadata": {},
   "source": [
    "## 1. Download PDB file"
   ]
  },
  {
   "cell_type": "code",
   "execution_count": 1,
   "id": "2d36da5c-6e31-40c7-a681-0dd7f6dcfd43",
   "metadata": {},
   "outputs": [],
   "source": [
    "pdbid = '1brs'"
   ]
  },
  {
   "cell_type": "code",
   "execution_count": 2,
   "id": "009c43d0-ac36-433b-b800-95bfa0f41adf",
   "metadata": {},
   "outputs": [],
   "source": [
    "# Create PDBList object\n",
    "from Bio.PDB import PDBList\n",
    "pdbl = PDBList()"
   ]
  },
  {
   "cell_type": "code",
   "execution_count": 3,
   "id": "dfa9a718-cfc7-4142-bccd-b4a3948e7ff1",
   "metadata": {},
   "outputs": [
    {
     "name": "stdout",
     "output_type": "stream",
     "text": [
      "Downloading PDB structure '1brs'...\n"
     ]
    },
    {
     "data": {
      "text/plain": [
       "'./pdb1brs.ent'"
      ]
     },
     "execution_count": 3,
     "metadata": {},
     "output_type": "execute_result"
    }
   ],
   "source": [
    "# Download the structure in PDB format. Note, that it will have .ent extention.\n",
    "pdbl.retrieve_pdb_file(pdbid, file_format='pdb', pdir='.')"
   ]
  },
  {
   "cell_type": "markdown",
   "id": "a60b8594-bed7-4f12-8be0-678103a4aba5",
   "metadata": {},
   "source": [
    "Sometimes using `wget` is an easier way:"
   ]
  },
  {
   "cell_type": "code",
   "execution_count": 6,
   "id": "d29031bf-496a-412f-b343-9f00b5e357e0",
   "metadata": {},
   "outputs": [
    {
     "name": "stdout",
     "output_type": "stream",
     "text": [
      "--2022-05-03 15:58:49--  https://files.rcsb.org/download/1brs.pdb\n",
      "Распознаётся files.rcsb.org (files.rcsb.org)... 128.6.158.49\n",
      "Подключение к files.rcsb.org (files.rcsb.org)|128.6.158.49|:443... соединение установлено.\n",
      "HTTP-запрос отправлен. Ожидание ответа... 200 OK\n",
      "Длина: нет данных [application/octet-stream]\n",
      "Сохранение в каталог: ««1brs.pdb»».\n",
      "\n",
      "1brs.pdb                [       <=>          ] 455,94K   326KB/s    за 1,4s    \n",
      "\n",
      "2022-05-03 15:58:51 (326 KB/s) - «1brs.pdb» сохранён [466884]\n",
      "\n"
     ]
    }
   ],
   "source": [
    "!wget https://files.rcsb.org/download/1brs.pdb"
   ]
  },
  {
   "cell_type": "markdown",
   "id": "f464ed2c-af83-4622-b271-92b85984fdde",
   "metadata": {},
   "source": [
    "Or use `os.system()` to pass your arguments to the terminal command:"
   ]
  },
  {
   "cell_type": "code",
   "execution_count": null,
   "id": "0605d316-d302-4025-88de-45b614595920",
   "metadata": {},
   "outputs": [],
   "source": [
    "import os\n",
    "os.system('wget https://files.rcsb.org/download/'+pdbid+'.pdb')"
   ]
  },
  {
   "cell_type": "markdown",
   "id": "09125e6b-514a-4df5-8a83-5d960721e6e5",
   "metadata": {},
   "source": [
    "## 2. Load structure file"
   ]
  },
  {
   "cell_type": "code",
   "execution_count": 7,
   "id": "55f9628c-7b8a-444d-a75b-fcc664ce21ed",
   "metadata": {},
   "outputs": [],
   "source": [
    "# Create PDBparser object\n",
    "from Bio.PDB.PDBParser import PDBParser\n",
    "p = PDBParser()"
   ]
  },
  {
   "cell_type": "code",
   "execution_count": 8,
   "id": "5006b260-9447-417d-ab17-478873010e94",
   "metadata": {
    "tags": []
   },
   "outputs": [
    {
     "name": "stderr",
     "output_type": "stream",
     "text": [
      "/home/kluwik/.local/lib/python3.8/site-packages/Bio/PDB/StructureBuilder.py:89: PDBConstructionWarning: WARNING: Chain A is discontinuous at line 5250.\n",
      "  warnings.warn(\n",
      "/home/kluwik/.local/lib/python3.8/site-packages/Bio/PDB/StructureBuilder.py:89: PDBConstructionWarning: WARNING: Chain B is discontinuous at line 5395.\n",
      "  warnings.warn(\n",
      "/home/kluwik/.local/lib/python3.8/site-packages/Bio/PDB/StructureBuilder.py:89: PDBConstructionWarning: WARNING: Chain C is discontinuous at line 5532.\n",
      "  warnings.warn(\n",
      "/home/kluwik/.local/lib/python3.8/site-packages/Bio/PDB/StructureBuilder.py:89: PDBConstructionWarning: WARNING: Chain D is discontinuous at line 5582.\n",
      "  warnings.warn(\n",
      "/home/kluwik/.local/lib/python3.8/site-packages/Bio/PDB/StructureBuilder.py:89: PDBConstructionWarning: WARNING: Chain E is discontinuous at line 5659.\n",
      "  warnings.warn(\n",
      "/home/kluwik/.local/lib/python3.8/site-packages/Bio/PDB/StructureBuilder.py:89: PDBConstructionWarning: WARNING: Chain F is discontinuous at line 5723.\n",
      "  warnings.warn(\n"
     ]
    }
   ],
   "source": [
    "# Create the structure object\n",
    "filename = '1brs.pdb'\n",
    "# The first argument is your custom name of the structure. It is rarely handy, so you may just leave it empty.\n",
    "structure = p.get_structure('my_structure', filename)"
   ]
  },
  {
   "cell_type": "markdown",
   "id": "2e5f34d5-1d29-49b6-98d9-65c7d42ce74a",
   "metadata": {},
   "source": [
    "Typically warnings on discontinuous chain will rise if there are missing residues in the structure. To ignore these warnings use the following:"
   ]
  },
  {
   "cell_type": "code",
   "execution_count": 9,
   "id": "8f08e1d1-7e82-4a35-a0ac-dfa3edd1a5e1",
   "metadata": {},
   "outputs": [
    {
     "data": {
      "text/plain": [
       "<Structure id=>"
      ]
     },
     "execution_count": 9,
     "metadata": {},
     "output_type": "execute_result"
    }
   ],
   "source": [
    "import warnings\n",
    "from Bio.PDB.PDBExceptions import PDBConstructionWarning \n",
    "\n",
    "with warnings.catch_warnings():\n",
    "    warnings.simplefilter(\"ignore\", PDBConstructionWarning)\n",
    "    structure = p.get_structure('', filename)\n",
    "    \n",
    "structure"
   ]
  },
  {
   "cell_type": "markdown",
   "id": "afe58826-2c01-42ab-9ffe-39fa4fec32f7",
   "metadata": {},
   "source": [
    "## 3. Access structure file sections and records"
   ]
  },
  {
   "cell_type": "code",
   "execution_count": 10,
   "id": "166b9d61-a1cf-44f6-bdc3-e8634efc5ccf",
   "metadata": {
    "tags": []
   },
   "outputs": [
    {
     "data": {
      "text/plain": [
       "dict_keys(['name', 'head', 'idcode', 'deposition_date', 'release_date', 'structure_method', 'resolution', 'structure_reference', 'journal_reference', 'author', 'compound', 'source', 'has_missing_residues', 'missing_residues', 'keywords', 'journal'])"
      ]
     },
     "execution_count": 10,
     "metadata": {},
     "output_type": "execute_result"
    }
   ],
   "source": [
    "# self-explanatory keys of header dictionary\n",
    "structure.header.keys()"
   ]
  },
  {
   "cell_type": "code",
   "execution_count": 11,
   "id": "2bd3806d-6b7e-46e3-bb4d-8b2a3460d46f",
   "metadata": {
    "tags": []
   },
   "outputs": [
    {
     "data": {
      "text/plain": [
       "'x-ray diffraction'"
      ]
     },
     "execution_count": 11,
     "metadata": {},
     "output_type": "execute_result"
    }
   ],
   "source": [
    "# method of structure determination\n",
    "structure.header['structure_method']"
   ]
  },
  {
   "cell_type": "code",
   "execution_count": 12,
   "id": "515ed0de-b9ed-4f0b-ad0a-fe5e2cbb2d4a",
   "metadata": {},
   "outputs": [
    {
     "name": "stdout",
     "output_type": "stream",
     "text": [
      "A ALA 1\n",
      "A GLN 2\n",
      "C ALA 1\n",
      "C GLN 2\n",
      "D GLU 64\n",
      "D ASN 65\n",
      "E LYS 1\n",
      "E GLU 64\n",
      "E ASN 65\n"
     ]
    }
   ],
   "source": [
    "# print missing residues (chain, residue name, residue number) if any\n",
    "if structure.header['has_missing_residues'] == True:\n",
    "    missres = structure.header['missing_residues']\n",
    "    for res in missres:\n",
    "        print(res['chain'], res['res_name'], res['ssseq'])"
   ]
  },
  {
   "cell_type": "markdown",
   "id": "dd555e47-f867-425c-ad72-a9f7fb725372",
   "metadata": {},
   "source": [
    "### Organization of the coordinate section"
   ]
  },
  {
   "cell_type": "markdown",
   "id": "d7b2ca18-3976-46d0-9e5d-0bb3426251e5",
   "metadata": {},
   "source": [
    "Hierarchy of elemets in structure object:"
   ]
  },
  {
   "cell_type": "markdown",
   "id": "cfe7ee3c-6da5-4ad3-917e-ea469471b805",
   "metadata": {},
   "source": [
    "- A structure consists of models\n",
    "- A model consists of chains\n",
    "- A chain consists of residues\n",
    "- A residue consists of atoms"
   ]
  },
  {
   "cell_type": "code",
   "execution_count": null,
   "id": "0e10a736-9424-4f9d-988b-63d7c2f73e70",
   "metadata": {},
   "outputs": [],
   "source": [
    "for model in structure:\n",
    "    for chain in model:\n",
    "        for residue in chain:\n",
    "            for atom in residue:\n",
    "                print(atom)"
   ]
  },
  {
   "cell_type": "markdown",
   "id": "255135f7-c2e3-4e9b-8666-a916c46c34e8",
   "metadata": {},
   "source": [
    "You may access a certain component directly without iteration:"
   ]
  },
  {
   "cell_type": "code",
   "execution_count": null,
   "id": "5ee7763d-432b-4629-b2e3-bf6c639090e2",
   "metadata": {
    "tags": []
   },
   "outputs": [],
   "source": [
    "atoms = structure.get_atoms()\n",
    "\n",
    "for atom in atoms:\n",
    "    print(atom.get_coord())"
   ]
  },
  {
   "cell_type": "markdown",
   "id": "2332fe1a-c042-4faf-bb56-39636ce3f2cd",
   "metadata": {
    "jupyter": {
     "outputs_hidden": true
    },
    "tags": []
   },
   "source": [
    "Or using slicing:"
   ]
  },
  {
   "cell_type": "code",
   "execution_count": 14,
   "id": "38fe6ffa-ccf7-4cc8-a94c-d87d8aeeffa2",
   "metadata": {},
   "outputs": [],
   "source": [
    "# chain A of the first model\n",
    "chainA = structure[0]['A']"
   ]
  },
  {
   "cell_type": "code",
   "execution_count": 16,
   "id": "0132c2b1-6b55-41d9-b3f1-f6f3359f168a",
   "metadata": {},
   "outputs": [
    {
     "data": {
      "text/plain": [
       "<Residue VAL het=  resseq=4 icode= >"
      ]
     },
     "execution_count": 16,
     "metadata": {},
     "output_type": "execute_result"
    }
   ],
   "source": [
    "# residue with the residue number 4 of chain F\n",
    "# mind that it is the residue number not python index\n",
    "res4 = structure[0]['F'][4]\n",
    "res4"
   ]
  },
  {
   "cell_type": "code",
   "execution_count": 17,
   "id": "46e89ec8-bd02-4378-ba64-2c612dbab2cb",
   "metadata": {},
   "outputs": [
    {
     "data": {
      "text/plain": [
       "('', 0, 'F', (' ', 4, ' '))"
      ]
     },
     "execution_count": 17,
     "metadata": {},
     "output_type": "execute_result"
    }
   ],
   "source": [
    "res4.get_full_id() "
   ]
  },
  {
   "cell_type": "markdown",
   "id": "77977a61-4a16-4bdc-a468-93e04d99e553",
   "metadata": {},
   "source": [
    "The full id of the residue is a tuple with the following items:\n",
    "    \n",
    "0. structure name, that you specified when loading it using parser\n",
    "1. model id\n",
    "2. chain id\n",
    "3. tuple, where the 2nd element is the number of the residue"
   ]
  },
  {
   "cell_type": "code",
   "execution_count": 18,
   "id": "0cc1f678-063c-4f56-aed5-c3dd50a99644",
   "metadata": {},
   "outputs": [
    {
     "data": {
      "text/plain": [
       "4"
      ]
     },
     "execution_count": 18,
     "metadata": {},
     "output_type": "execute_result"
    }
   ],
   "source": [
    "res4.get_full_id()[3][1]"
   ]
  },
  {
   "cell_type": "markdown",
   "id": "3335ba3e-99b5-450d-8e2a-fa3728901925",
   "metadata": {},
   "source": [
    "## 4. Extract sequence from structure\n",
    "\n",
    "Extract the sequence either from SEQRES record (`pdb-seqres`) or from ATOM record (`pdb-atom`). \n",
    "\n",
    "Sequence in SEQRES record is the sequence of the studied protein, while sequence from ATOM record is what was actually captured in the crystallographic experiment (if talking about X-ray determined structures). Some residues from SEQRES might be absent in the ATOM record since they are not resolved because of high flexibility or flaws of the experiment. SEQRES sequence may also differ from the sequence in reference databases, e.g. Uniprot. It might happen because researchers introduced mutations into the protein either to increase its stability in order to obtain a nice crystal for structure determination or to study the structure of this particular mutant.\n",
    "\n",
    "Read more about the differences in SEQRES and ATOM sequences:\n",
    "\n",
    "https://pdb101.rcsb.org/learn/guide-to-understanding-pdb-data/primary-sequences-and-the-pdb-format \\\n",
    "https://www.wwpdb.org/documentation/file-format-content/format33/sect3.html#SEQRES\n",
    "\n",
    "More examples with `SeqIO` module: https://biopython.org/docs/1.75/api/Bio.SeqIO.PdbIO.html"
   ]
  },
  {
   "cell_type": "code",
   "execution_count": 19,
   "id": "cb9ab56d-d6a9-45bb-82e3-5b2f2711c5f9",
   "metadata": {},
   "outputs": [],
   "source": [
    "from Bio import SeqIO"
   ]
  },
  {
   "cell_type": "code",
   "execution_count": 20,
   "id": "779d3633-96e2-457e-9368-b36ec2645c77",
   "metadata": {},
   "outputs": [
    {
     "name": "stdout",
     "output_type": "stream",
     "text": [
      "A AQVINTFDGVADYLQTYHKLPDNYITKSEAQALGWVASKGNLADVAPGKSIGGDIFSNREGKLPGKSGRTWREADINYTSGFRNSDRILYSSDWLIYKTTDHYQTFTKIR\n",
      "B AQVINTFDGVADYLQTYHKLPDNYITKSEAQALGWVASKGNLADVAPGKSIGGDIFSNREGKLPGKSGRTWREADINYTSGFRNSDRILYSSDWLIYKTTDHYQTFTKIR\n",
      "C AQVINTFDGVADYLQTYHKLPDNYITKSEAQALGWVASKGNLADVAPGKSIGGDIFSNREGKLPGKSGRTWREADINYTSGFRNSDRILYSSDWLIYKTTDHYQTFTKIR\n",
      "D KKAVINGEQIRSISDLHQTLKKELALPEYYGENLDALWDALTGWVEYPLVLEWRQFEQSKQLTENGAESVLQVFREAKAEGADITIILS\n",
      "E KKAVINGEQIRSISDLHQTLKKELALPEYYGENLDALWDALTGWVEYPLVLEWRQFEQSKQLTENGAESVLQVFREAKAEGADITIILS\n",
      "F KKAVINGEQIRSISDLHQTLKKELALPEYYGENLDALWDALTGWVEYPLVLEWRQFEQSKQLTENGAESVLQVFREAKAEGADITIILS\n"
     ]
    }
   ],
   "source": [
    "for record in SeqIO.parse(filename, \"pdb-seqres\"):\n",
    "    print(record.annotations['chain'], record.seq)"
   ]
  },
  {
   "cell_type": "code",
   "execution_count": 21,
   "id": "fbd2ed87-e94e-429d-b70a-60846c955f91",
   "metadata": {},
   "outputs": [
    {
     "name": "stdout",
     "output_type": "stream",
     "text": [
      "A VINTFDGVADYLQTYHKLPDNYITKSEAQALGWVASKGNLADVAPGKSIGGDIFSNREGKLPGKSGRTWREADINYTSGFRNSDRILYSSDWLIYKTTDHYQTFTKIR\n",
      "B AQVINTFDGVADYLQTYHKLPDNYITKSEAQALGWVASKGNLADVAPGKSIGGDIFSNREGKLPGKSGRTWREADINYTSGFRNSDRILYSSDWLIYKTTDHYQTFTKIR\n",
      "C VINTFDGVADYLQTYHKLPDNYITKSEAQALGWVASKGNLADVAPGKSIGGDIFSNREGKLPGKSGRTWREADINYTSGFRNSDRILYSSDWLIYKTTDHYQTFTKIR\n",
      "D KKAVINGEQIRSISDLHQTLKKELALPEYYGENLDALWDALTGWVEYPLVLEWRQFEQSKQLTXXGAESVLQVFREAKAEGADITIILS\n",
      "E KAVINGEQIRSISDLHQTLKKELALPEYYGENLDALWDALTGWVEYPLVLEWRQFEQSKQLTXXGAESVLQVFREAKAEGADITIILS\n",
      "F KKAVINGEQIRSISDLHQTLKKELALPEYYGENLDALWDALTGWVEYPLVLEWRQFEQSKQLTENGAESVLQVFREAKAEGADITIILS\n"
     ]
    },
    {
     "name": "stderr",
     "output_type": "stream",
     "text": [
      "/home/kluwik/.local/lib/python3.8/site-packages/Bio/PDB/StructureBuilder.py:89: PDBConstructionWarning: WARNING: Chain A is discontinuous at line 5250.\n",
      "  warnings.warn(\n",
      "/home/kluwik/.local/lib/python3.8/site-packages/Bio/PDB/StructureBuilder.py:89: PDBConstructionWarning: WARNING: Chain B is discontinuous at line 5395.\n",
      "  warnings.warn(\n",
      "/home/kluwik/.local/lib/python3.8/site-packages/Bio/PDB/StructureBuilder.py:89: PDBConstructionWarning: WARNING: Chain C is discontinuous at line 5532.\n",
      "  warnings.warn(\n",
      "/home/kluwik/.local/lib/python3.8/site-packages/Bio/PDB/StructureBuilder.py:89: PDBConstructionWarning: WARNING: Chain D is discontinuous at line 5582.\n",
      "  warnings.warn(\n",
      "/home/kluwik/.local/lib/python3.8/site-packages/Bio/PDB/StructureBuilder.py:89: PDBConstructionWarning: WARNING: Chain E is discontinuous at line 5659.\n",
      "  warnings.warn(\n",
      "/home/kluwik/.local/lib/python3.8/site-packages/Bio/PDB/StructureBuilder.py:89: PDBConstructionWarning: WARNING: Chain F is discontinuous at line 5723.\n",
      "  warnings.warn(\n"
     ]
    }
   ],
   "source": [
    "for record in SeqIO.parse(filename, \"pdb-atom\"):\n",
    "    print(record.annotations['chain'], record.seq)"
   ]
  },
  {
   "cell_type": "code",
   "execution_count": 22,
   "id": "1769aa17-521e-4609-8d30-519841fcc042",
   "metadata": {},
   "outputs": [
    {
     "name": "stdout",
     "output_type": "stream",
     "text": [
      "VINTFDGVADYLQTYHKLPDNYITKSEAQALGWVASKGNLADVAPGKSIGGDIFSNREGKLPGKSGRTWREADINYTSGFRNSDRILYSSDWLIYKTTDHYQTFTKIR\n"
     ]
    }
   ],
   "source": [
    "with warnings.catch_warnings():\n",
    "    warnings.simplefilter(\"ignore\", PDBConstructionWarning)\n",
    "    for record in SeqIO.parse(filename, \"pdb-atom\"):\n",
    "        if record.annotations['chain'] == 'C':\n",
    "            seq = record.seq\n",
    "            print(seq)"
   ]
  },
  {
   "cell_type": "markdown",
   "id": "a8e5232c-f08f-4757-94a4-3feadc431b60",
   "metadata": {},
   "source": [
    "## 5. Save sequence to fasta file"
   ]
  },
  {
   "cell_type": "code",
   "execution_count": null,
   "id": "b60df348-3df4-4563-aa4f-e7bde91ef416",
   "metadata": {},
   "outputs": [],
   "source": [
    "for record in SeqIO.parse(filename, \"pdb-seqres\"):\n",
    "    if record.annotations['chain'] == 'A':\n",
    "        fasta = record\n",
    "        print(record.seq)"
   ]
  },
  {
   "cell_type": "code",
   "execution_count": null,
   "id": "690d94c5-6f92-4abc-abdc-5ad0839670f8",
   "metadata": {},
   "outputs": [],
   "source": [
    "SeqIO.write(fasta, \"1brs_A.fasta\", \"fasta\")"
   ]
  },
  {
   "cell_type": "markdown",
   "id": "fb5c2c5c-2044-4b2f-bebb-a31568db2186",
   "metadata": {},
   "source": [
    "## 6. More sections and records"
   ]
  },
  {
   "cell_type": "markdown",
   "id": "63a79891-cb58-421d-80f7-1e9f1bc573ca",
   "metadata": {},
   "source": [
    "Apart from sequence, `SeqIO.parse()` outputs other useful information:"
   ]
  },
  {
   "cell_type": "code",
   "execution_count": 23,
   "id": "02c167fd-8333-46f8-8924-e7737ecaf4a5",
   "metadata": {},
   "outputs": [
    {
     "name": "stdout",
     "output_type": "stream",
     "text": [
      "What is record: ['__add__', '__bool__', '__class__', '__contains__', '__delattr__', '__dict__', '__dir__', '__doc__', '__eq__', '__format__', '__ge__', '__getattribute__', '__getitem__', '__gt__', '__hash__', '__init__', '__init_subclass__', '__iter__', '__le__', '__le___', '__len__', '__lt__', '__module__', '__ne__', '__new__', '__radd__', '__reduce__', '__reduce_ex__', '__repr__', '__setattr__', '__sizeof__', '__str__', '__subclasshook__', '__weakref__', '_per_letter_annotations', '_seq', '_set_per_letter_annotations', '_set_seq', 'annotations', 'dbxrefs', 'description', 'features', 'format', 'id', 'letter_annotations', 'lower', 'name', 'reverse_complement', 'seq', 'translate', 'upper']\n",
      "Annotations: dict_keys(['chain', 'molecule_type'])\n"
     ]
    }
   ],
   "source": [
    "for record in SeqIO.parse(\"1brs.pdb\", \"pdb-seqres\"):\n",
    "    print('What is record:', dir(record))\n",
    "    print('Annotations:', record.annotations.keys())\n",
    "    break"
   ]
  },
  {
   "cell_type": "code",
   "execution_count": 24,
   "id": "14fbac2a-78d8-4e1a-bbe2-873a98cf7e42",
   "metadata": {},
   "outputs": [
    {
     "name": "stdout",
     "output_type": "stream",
     "text": [
      "What is record: ['__add__', '__bool__', '__class__', '__contains__', '__delattr__', '__dict__', '__dir__', '__doc__', '__eq__', '__format__', '__ge__', '__getattribute__', '__getitem__', '__gt__', '__hash__', '__init__', '__init_subclass__', '__iter__', '__le__', '__le___', '__len__', '__lt__', '__module__', '__ne__', '__new__', '__radd__', '__reduce__', '__reduce_ex__', '__repr__', '__setattr__', '__sizeof__', '__str__', '__subclasshook__', '__weakref__', '_per_letter_annotations', '_seq', '_set_per_letter_annotations', '_set_seq', 'annotations', 'dbxrefs', 'description', 'features', 'format', 'id', 'letter_annotations', 'lower', 'name', 'reverse_complement', 'seq', 'translate', 'upper']\n",
      "Annotations: dict_keys(['molecule_type', 'model', 'chain', 'start', 'end', 'name', 'head', 'idcode', 'deposition_date', 'release_date', 'structure_method', 'resolution', 'structure_reference', 'journal_reference', 'author', 'compound', 'source', 'has_missing_residues', 'missing_residues', 'keywords', 'journal'])\n"
     ]
    },
    {
     "name": "stderr",
     "output_type": "stream",
     "text": [
      "/home/kluwik/.local/lib/python3.8/site-packages/Bio/PDB/StructureBuilder.py:89: PDBConstructionWarning: WARNING: Chain A is discontinuous at line 5250.\n",
      "  warnings.warn(\n",
      "/home/kluwik/.local/lib/python3.8/site-packages/Bio/PDB/StructureBuilder.py:89: PDBConstructionWarning: WARNING: Chain B is discontinuous at line 5395.\n",
      "  warnings.warn(\n",
      "/home/kluwik/.local/lib/python3.8/site-packages/Bio/PDB/StructureBuilder.py:89: PDBConstructionWarning: WARNING: Chain C is discontinuous at line 5532.\n",
      "  warnings.warn(\n",
      "/home/kluwik/.local/lib/python3.8/site-packages/Bio/PDB/StructureBuilder.py:89: PDBConstructionWarning: WARNING: Chain D is discontinuous at line 5582.\n",
      "  warnings.warn(\n",
      "/home/kluwik/.local/lib/python3.8/site-packages/Bio/PDB/StructureBuilder.py:89: PDBConstructionWarning: WARNING: Chain E is discontinuous at line 5659.\n",
      "  warnings.warn(\n",
      "/home/kluwik/.local/lib/python3.8/site-packages/Bio/PDB/StructureBuilder.py:89: PDBConstructionWarning: WARNING: Chain F is discontinuous at line 5723.\n",
      "  warnings.warn(\n"
     ]
    }
   ],
   "source": [
    "for record in SeqIO.parse(\"1brs.pdb\", \"pdb-atom\"):\n",
    "    print('What is record:', dir(record))\n",
    "    print('Annotations:', record.annotations.keys())\n",
    "    break"
   ]
  },
  {
   "cell_type": "code",
   "execution_count": 25,
   "id": "be25053d-5934-42ce-8ea1-767f692c7574",
   "metadata": {},
   "outputs": [
    {
     "name": "stdout",
     "output_type": "stream",
     "text": [
      "UNP:P00648\n"
     ]
    }
   ],
   "source": [
    "# get uniprot accession number\n",
    "for record in SeqIO.parse(filename, \"pdb-seqres\"):\n",
    "    if record.annotations['chain'] == 'A':\n",
    "        ref = record.dbxrefs[0]\n",
    "        print(ref)"
   ]
  },
  {
   "cell_type": "markdown",
   "id": "6a4fdb4b-535d-4a43-9305-bbb6c5afd187",
   "metadata": {},
   "source": [
    "## 7. Save structure file"
   ]
  },
  {
   "cell_type": "code",
   "execution_count": null,
   "id": "ca5f0ace-5ea6-4310-816d-8ccbc3c8c006",
   "metadata": {},
   "outputs": [],
   "source": [
    "from Bio.PDB.PDBIO import PDBIO\n",
    "io=PDBIO()"
   ]
  },
  {
   "cell_type": "markdown",
   "id": "6a9862a9-ff2b-4d21-ac7f-a1f7064b05e2",
   "metadata": {},
   "source": [
    "Specify the structure or the part of it you want to save in `.set_structure()`."
   ]
  },
  {
   "cell_type": "code",
   "execution_count": null,
   "id": "d9e0076e-fffb-4014-92e6-d3272534defb",
   "metadata": {},
   "outputs": [],
   "source": [
    "structure_to_save = structure[0]['F']\n",
    "io.set_structure(structure_to_save)\n",
    "name = '1brs_F.pdb'\n",
    "io.save(name)"
   ]
  }
 ],
 "metadata": {
  "kernelspec": {
   "display_name": "Python 3",
   "language": "python",
   "name": "python3"
  },
  "language_info": {
   "codemirror_mode": {
    "name": "ipython",
    "version": 3
   },
   "file_extension": ".py",
   "mimetype": "text/x-python",
   "name": "python",
   "nbconvert_exporter": "python",
   "pygments_lexer": "ipython3",
   "version": "3.8.8"
  }
 },
 "nbformat": 4,
 "nbformat_minor": 5
}
