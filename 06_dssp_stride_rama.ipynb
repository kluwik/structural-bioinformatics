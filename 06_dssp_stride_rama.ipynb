{
 "cells": [
  {
   "cell_type": "markdown",
   "id": "7b74f139",
   "metadata": {
    "id": "7b74f139"
   },
   "source": [
    "# Secondary structure. DSSP, Stride"
   ]
  },
  {
   "cell_type": "markdown",
   "id": "ce026201-8a17-4754-b951-bfe863a4a1fd",
   "metadata": {
    "id": "ce026201-8a17-4754-b951-bfe863a4a1fd"
   },
   "source": [
    "## 0. Install necessary programs and download files"
   ]
  },
  {
   "cell_type": "code",
   "execution_count": null,
   "id": "d368a50b-f94b-4c8f-91ee-e621a2cb758a",
   "metadata": {
    "colab": {
     "base_uri": "https://localhost:8080/"
    },
    "id": "d368a50b-f94b-4c8f-91ee-e621a2cb758a",
    "outputId": "82871062-5251-49e5-d6ee-dd26867fe5c8",
    "tags": []
   },
   "outputs": [],
   "source": [
    "! wget https://files.rcsb.org/download/1A1L.pdb\n",
    "! wget https://github.com/PDB-REDO/dssp/releases/download/v4.4.0/mkdssp-4.4.0-linux-x64\n",
    "! chmod +x mkdssp-4.4.0-linux-x64\n",
    "! pip install DSSPparser biopython"
   ]
  },
  {
   "cell_type": "markdown",
   "id": "e2eb1428-db45-4f99-bb81-b6e0b256fc36",
   "metadata": {
    "id": "e2eb1428-db45-4f99-bb81-b6e0b256fc36"
   },
   "source": [
    "## 1. DSSP (Dictionary of Secondary Structure in Proteins)\n",
    "\n",
    "Annotation of secondary structure, calculation of torsion angles, solvent accessibility and more.\n",
    "\n",
    "DSSP is available as a standalone program, a web-server, and a databse:\n",
    "- Installation (Linux/Windows): https://github.com/PDB-REDO/dssp/releases/tag/v4.4.0 \n",
    "- Web-server takes PDB ID or custom structure as input: https://pdb-redo.eu/dssp\n",
    "\n",
    "DSSP output is now availbale in traditional `.dssp` format and `.mmcif` format, that supports annotation of large structures. Check description of the format: https://pdb-redo.eu/dssp/about.\n",
    "\n",
    "DSSP annotation is computed for all PDB structures. Single entry and whole databse downloads are available: \\\n",
    "`wget https://pdb-redo.eu/dssp/db/1csp/mmcif` - mmcif format \\\n",
    "`wget https://pdb-redo.eu/dssp/db/1csp/legacy` - traditional dssp format\n",
    "\n",
    "**Secondary structure annotation in DSSP**\n",
    "\n",
    "`H` - Alpha helix (4-12) \\\n",
    "`B` - Isolated beta-bridge residue \\\n",
    "`E`- Strand \\\n",
    "`G`- 3-10 helix \\\n",
    "`I` - Pi helix \\\n",
    "`T` - Turn \\\n",
    "`S` - Bend \\\n",
    "`-` - None\n",
    "\n",
    "Citations:\n",
    "\n",
    "*Joosten, R. P., te Beek, T. A. H., Krieger, E., Hekkelman, M. L., Hooft, R. W. W., Schneider, R., Sander, C., & Vriend, G. (2010). A series of PDB related databases for everyday needs. Nucleic Acids Research, 39(Database), D411–D419. https://doi.org/10.1093/nar/gkq1105*\n",
    "\n",
    "*Kabsch, W., & Sander, C. (1983). Dictionary of protein secondary structure: Pattern recognition of hydrogen‐bonded and geometrical features. Biopolymers, 22(12), 2577–2637. Portico. https://doi.org/10.1002/bip.360221211*"
   ]
  },
  {
   "cell_type": "markdown",
   "id": "3007c495-21b2-470e-8106-5319e70ff86d",
   "metadata": {
    "id": "3007c495-21b2-470e-8106-5319e70ff86d"
   },
   "source": [
    "### Option 1: generate DSSP file with standalone program and parse it"
   ]
  },
  {
   "cell_type": "code",
   "execution_count": null,
   "id": "f81c4d5d-b9e2-4280-bf48-346290daaef0",
   "metadata": {
    "id": "f81c4d5d-b9e2-4280-bf48-346290daaef0"
   },
   "outputs": [],
   "source": [
    "# run DSSP\n",
    "! ./mkdssp-4.4.0-linux-x64 1A1L.pdb --output-format dssp > 1A1L.dssp"
   ]
  },
  {
   "cell_type": "code",
   "execution_count": null,
   "id": "d655ae8f-adb2-4720-9a5d-4c7d4f0e507c",
   "metadata": {
    "colab": {
     "base_uri": "https://localhost:8080/"
    },
    "id": "d655ae8f-adb2-4720-9a5d-4c7d4f0e507c",
    "outputId": "f761a391-4c10-4402-c58b-5e4f44994e25"
   },
   "outputs": [],
   "source": [
    "# check file contents\n",
    "! cat 1A1L.dssp"
   ]
  },
  {
   "cell_type": "markdown",
   "id": "6h33DVIQjVRG",
   "metadata": {
    "id": "6h33DVIQjVRG"
   },
   "source": [
    "You may parse DSSP file into Pandas dataframe:"
   ]
  },
  {
   "cell_type": "code",
   "execution_count": null,
   "id": "1463c6cb-dbf7-4779-b9db-ca673a43c7ad",
   "metadata": {
    "id": "1463c6cb-dbf7-4779-b9db-ca673a43c7ad"
   },
   "outputs": [],
   "source": [
    "import pandas as pd\n",
    "pd.set_option('display.max_columns', None)\n",
    "from DSSPparser import parseDSSP"
   ]
  },
  {
   "cell_type": "code",
   "execution_count": null,
   "id": "80ba59ac-3bdf-4e3a-826e-7415f074d7df",
   "metadata": {
    "colab": {
     "base_uri": "https://localhost:8080/",
     "height": 443
    },
    "id": "80ba59ac-3bdf-4e3a-826e-7415f074d7df",
    "outputId": "6c08e4a1-87ec-43b5-a437-30f27233bf37"
   },
   "outputs": [],
   "source": [
    "parser = parseDSSP('1A1L.dssp')\n",
    "parser.parse()\n",
    "pddict = parser.dictTodataframe()\n",
    "pddict"
   ]
  },
  {
   "cell_type": "markdown",
   "id": "W9PorOPXjkpf",
   "metadata": {
    "id": "W9PorOPXjkpf"
   },
   "source": [
    "Alternatively, you may parse DSSP file into dictionary:"
   ]
  },
  {
   "cell_type": "code",
   "execution_count": null,
   "id": "442f3b73-8aa3-4cee-a296-4d396068192d",
   "metadata": {
    "id": "442f3b73-8aa3-4cee-a296-4d396068192d"
   },
   "outputs": [],
   "source": [
    "from Bio.PDB.DSSP import DSSP, dssp_dict_from_pdb_file, make_dssp_dict"
   ]
  },
  {
   "cell_type": "code",
   "execution_count": null,
   "id": "abf99ecd",
   "metadata": {
    "colab": {
     "base_uri": "https://localhost:8080/"
    },
    "id": "abf99ecd",
    "outputId": "59e19481-a7d0-4a3e-f9dd-209a0706a33d"
   },
   "outputs": [],
   "source": [
    "dssp = make_dssp_dict('1A1L.dssp')\n",
    "dssp = dssp[0] # the function returns a tuple where the first and the only element is a dictionary\n",
    "\n",
    "for i in dssp.items():\n",
    "    print(i)\n",
    "    break"
   ]
  },
  {
   "cell_type": "markdown",
   "id": "dc668049",
   "metadata": {
    "id": "dc668049",
    "tags": []
   },
   "source": [
    "#### How DSSP object is organized\n",
    "\n",
    "A dictionary with the information for every residue. Both keys and values are tuples.\n",
    "\n",
    "**Elements of keys:**\n",
    "\n",
    "0 - chain identifier \\\n",
    "1 - tuple, where the second element is residue number as in PDB (insertion code)\n",
    "\n",
    "**Elements of values:**\n",
    "\n",
    "0 - Amino acid \\\n",
    "1 - Secondary structure \\\n",
    "2 - Relative ASA \\\n",
    "3 - Phi \\\n",
    "4 - Psi \\\n",
    "5 - Residue index \\\n",
    "6 - NH–>O_1_relidx \\\n",
    "7 - NH–>O_1_energy \\\n",
    "8 - O–>NH_1_relidx \\\n",
    "9 - O–>NH_1_energy \\\n",
    "10 - NH–>O_2_relidx \\\n",
    "11 - NH–>O_2_energy \\\n",
    "12 - O–>NH_2_relidx \\\n",
    "13 - O–>NH_2_energy"
   ]
  },
  {
   "cell_type": "code",
   "execution_count": null,
   "id": "a7182bfb",
   "metadata": {
    "colab": {
     "base_uri": "https://localhost:8080/"
    },
    "id": "a7182bfb",
    "outputId": "0cb63fb9-649d-495a-9f56-5fa7fd11038d",
    "scrolled": true
   },
   "outputs": [],
   "source": [
    "# print residues involved in a strand\n",
    "\n",
    "for keys, values in dssp.items():\n",
    "    chain = keys[0]\n",
    "    res = keys[1][1]\n",
    "    aa = values[0]\n",
    "    ss = values[1]\n",
    "    if ss == 'E':\n",
    "        print('residue', aa, res, 'chain', chain)"
   ]
  },
  {
   "cell_type": "markdown",
   "id": "64a2e16e-a94e-4a4c-b496-6a7b240d629f",
   "metadata": {
    "id": "64a2e16e-a94e-4a4c-b496-6a7b240d629f",
    "tags": []
   },
   "source": [
    "### Option 2: generate DSSP dictionary object from PDB structure object in Biopython\n",
    "\n",
    "Another way to parse DSSP is to, firstly, parse the PDB structure, and then generate secondary structure annotation using `DSSP()`. In this case the output will be a dictionary, but, in contrast to the previous outputs, the residue index will be the first element (not sixth) and instead of absolute values of accessible surface area there will be values of [relative ASA](https://en.wikipedia.org/wiki/Relative_accessible_surface_area) - absolute ASA diveded by maximum possible ASA. By default the `acc_array` parameter is `\"Sander\"` - the max ASA values from Sander & Rost (1994). See other options: https://biopython.org/docs/1.75/api/Bio.PDB.DSSP.html#Bio.PDB.DSSP.DSSP."
   ]
  },
  {
   "cell_type": "code",
   "execution_count": null,
   "id": "a2d5aa58-8809-47bf-94ae-4bcfa6f49ba7",
   "metadata": {
    "id": "a2d5aa58-8809-47bf-94ae-4bcfa6f49ba7"
   },
   "outputs": [],
   "source": [
    "from Bio.PDB import PDBParser\n",
    "p = PDBParser(QUIET=True) # ommit warnings\n",
    "\n",
    "structure = p.get_structure(\"1A1L\", \"1A1L.pdb\")\n",
    "model = structure[0]"
   ]
  },
  {
   "cell_type": "code",
   "execution_count": null,
   "id": "09d7bde1-4019-459c-85df-b96b0116ae04",
   "metadata": {
    "id": "09d7bde1-4019-459c-85df-b96b0116ae04"
   },
   "outputs": [],
   "source": [
    "dssp = DSSP(model, \"1A1L.pdb\", acc_array='Miller', dssp='./mkdssp-4.4.0-linux-x64',)"
   ]
  },
  {
   "cell_type": "code",
   "execution_count": null,
   "id": "dc78f7db-9fac-4618-aff0-8702c13f0663",
   "metadata": {
    "id": "dc78f7db-9fac-4618-aff0-8702c13f0663",
    "outputId": "08e6c50d-5fbb-49d2-8892-dd56a7a4d752"
   },
   "outputs": [],
   "source": [
    "for i in dssp:\n",
    "    print(i)\n",
    "    break"
   ]
  },
  {
   "cell_type": "markdown",
   "id": "57016dee",
   "metadata": {
    "id": "57016dee"
   },
   "source": [
    "### Option 3: generate DSSP dictionary object from PDB file in Biopython\n",
    "\n",
    "With DSSP installed locally, you can obtain DSSP annotation using `dssp_dict_from_pdb_file()` for the given PDB file."
   ]
  },
  {
   "cell_type": "code",
   "execution_count": null,
   "id": "46eaa05a",
   "metadata": {
    "id": "46eaa05a"
   },
   "outputs": [],
   "source": [
    "pdb_file = '1A1L.pdb'\n",
    "dssp = dssp_dict_from_pdb_file(in_file = pdb_file, DSSP = './mkdssp-4.4.0-linux-x64', dssp_version='4.4.0')\n",
    "# the function returns a tuple where the first and the only element is a dictionary\n",
    "dssp = dssp[0]"
   ]
  },
  {
   "cell_type": "code",
   "execution_count": null,
   "id": "df7f4b79",
   "metadata": {
    "id": "df7f4b79",
    "outputId": "7421ee24-b9dd-417e-9af0-dc24fd0141fb",
    "scrolled": true
   },
   "outputs": [],
   "source": [
    "for k,v in dssp.items():\n",
    "    print(k, v)\n",
    "    break"
   ]
  },
  {
   "cell_type": "markdown",
   "id": "80bb3ae0-d983-42d4-b002-dfe543171fbe",
   "metadata": {
    "id": "80bb3ae0-d983-42d4-b002-dfe543171fbe"
   },
   "source": [
    "## 2. STRIDE"
   ]
  },
  {
   "cell_type": "markdown",
   "id": "5149a626-5e50-4985-b690-fb9ca91afec4",
   "metadata": {
    "id": "5149a626-5e50-4985-b690-fb9ca91afec4"
   },
   "source": [
    "STRIDE (**Str**uctural **ide**ntification) is a program used to assign secondary structure annotations to a protein structure. STRIDE has slightly more complex criteria to assign codes compared to DSSP. STRIDE utilizes the atomic coordinates of a structure to assign the structure codes, which are:\n",
    "\n",
    "`H` - Alpha helix \\\n",
    "`G` - 3-10 helix \\\n",
    "`I` - PI-helix \\\n",
    "`E` - Extended conformation \\\n",
    "`B` or `b` - Isolated bridge \\\n",
    "`T` - Turn \\\n",
    "`C` - Coil (none of the above)\n",
    "\n",
    "Citation:\n",
    "\n",
    "*Frishman, D., & Argos, P. (1995). Knowledge‐based protein secondary structure assignment. Proteins: Structure, Function, and Bioinformatics, 23(4), 566–579. Portico. https://doi.org/10.1002/prot.340230412*"
   ]
  },
  {
   "cell_type": "code",
   "execution_count": null,
   "id": "807bd0af-c41b-4b4c-8e4a-6e39e0a81e9f",
   "metadata": {
    "colab": {
     "base_uri": "https://localhost:8080/"
    },
    "id": "807bd0af-c41b-4b4c-8e4a-6e39e0a81e9f",
    "outputId": "0122813d-5343-4be6-fbd1-1f3f4f32518d",
    "tags": []
   },
   "outputs": [],
   "source": [
    "! mkdir -p stride\n",
    "! wget https://webclu.bio.wzw.tum.de/stride/stride.tar.gz -P stride/\n",
    "! cd stride; tar -zxf stride.tar.gz; make"
   ]
  },
  {
   "cell_type": "code",
   "execution_count": null,
   "id": "a9360f40-250a-4d01-8269-815bc21238e0",
   "metadata": {
    "colab": {
     "base_uri": "https://localhost:8080/"
    },
    "id": "a9360f40-250a-4d01-8269-815bc21238e0",
    "outputId": "3587db76-9837-42be-937a-fcaf0d162ee1"
   },
   "outputs": [],
   "source": [
    "# run STRIDE\n",
    "! ./stride/stride 1A1L.pdb > 1A1L.stride"
   ]
  },
  {
   "cell_type": "code",
   "execution_count": null,
   "id": "FumKvOyqkit8",
   "metadata": {
    "colab": {
     "base_uri": "https://localhost:8080/"
    },
    "id": "FumKvOyqkit8",
    "outputId": "1ba8017a-3e54-4879-f992-15ce286a9f24"
   },
   "outputs": [],
   "source": [
    "# check file contents\n",
    "! cat 1A1L.stride"
   ]
  },
  {
   "cell_type": "markdown",
   "id": "856ad834-812e-45f5-9d36-5fe7a8f7f6aa",
   "metadata": {},
   "source": [
    "## 3. Ramachandran plot"
   ]
  },
  {
   "cell_type": "code",
   "execution_count": null,
   "id": "002c23c6-d0cc-4067-91c8-104ab929be0b",
   "metadata": {},
   "outputs": [],
   "source": [
    "import numpy as np\n",
    "import matplotlib\n",
    "import matplotlib.pyplot as plt\n",
    "import matplotlib.colors as mplcolors\n",
    "from matplotlib import colors"
   ]
  },
  {
   "cell_type": "code",
   "execution_count": null,
   "id": "4b076cdd-fc47-4170-892a-b8d637e76728",
   "metadata": {},
   "outputs": [],
   "source": [
    "# data to plot rama plot general case contours\n",
    "! wget https://github.com/kluwik/structural-bioinformatics/raw/main/rama_general.npy\n",
    "rama_general = np.load('rama_general.npy')"
   ]
  },
  {
   "cell_type": "code",
   "execution_count": null,
   "id": "b47c13af-2835-4f3d-b622-f1097507a0ae",
   "metadata": {},
   "outputs": [],
   "source": [
    "### <--- Ramachandran plot for general case \n",
    "\n",
    "# https://github.com/gerdos/PyRAMA/\n",
    "cmap = mplcolors.ListedColormap(['#FFFFFF', '#C2E6E2', '#AECFCB'])\n",
    "\n",
    "plt.figure(figsize = (6, 6)) \n",
    "plt.imshow(rama_general, cmap=cmap, extent=(-180, 180, 180, -180), \n",
    "           norm=colors.BoundaryNorm([0, 0.0005, 0.02, 1], cmap.N))\n",
    "\n",
    "plt.xlim([-180, 180])\n",
    "plt.ylim([-180, 180])\n",
    "plt.xticks(np.arange(-180,181,90))\n",
    "plt.yticks(np.arange(-180,181,90))\n",
    "plt.plot([-180, 180], [0, 0], color=\"black\")\n",
    "plt.plot([0, 0], [-180, 180], color=\"black\")\n",
    "plt.xlabel(r'$\\phi$')\n",
    "plt.ylabel(r'$\\psi$')\n",
    "plt.grid(True)\n",
    "\n",
    "### Ramachandran plot for general case --->\n",
    "\n",
    "\n",
    "# Plot dihedrals of the D-amino acids helix below in this cell to map them on the Rama plot\n",
    "\n",
    "\n",
    "\n",
    "plt.show()"
   ]
  },
  {
   "cell_type": "code",
   "execution_count": null,
   "id": "01ef7b97-fc90-4a4d-8d20-e7b4f3d7a63a",
   "metadata": {},
   "outputs": [],
   "source": []
  }
 ],
 "metadata": {
  "colab": {
   "provenance": [],
   "toc_visible": true
  },
  "kernelspec": {
   "display_name": "Python 3 (ipykernel)",
   "language": "python",
   "name": "python3"
  },
  "language_info": {
   "codemirror_mode": {
    "name": "ipython",
    "version": 3
   },
   "file_extension": ".py",
   "mimetype": "text/x-python",
   "name": "python",
   "nbconvert_exporter": "python",
   "pygments_lexer": "ipython3",
   "version": "3.9.12"
  }
 },
 "nbformat": 4,
 "nbformat_minor": 5
}
