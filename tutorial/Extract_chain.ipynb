{
 "cells": [
  {
   "cell_type": "markdown",
   "id": "4d5574ed-e90a-41f4-aad9-0df9fd9a6f23",
   "metadata": {
    "tags": []
   },
   "source": [
    "## Extract chain using pdb-tools"
   ]
  },
  {
   "cell_type": "code",
   "execution_count": 9,
   "id": "cc18a2bc-930d-4451-932d-13adc922863d",
   "metadata": {},
   "outputs": [
    {
     "name": "stdout",
     "output_type": "stream",
     "text": [
      "Collecting pdb-tools\n",
      "  Downloading pdb_tools-2.5.0-py3-none-any.whl (207 kB)\n",
      "\u001b[K     |████████████████████████████████| 207 kB 1.9 MB/s eta 0:00:01\n",
      "\u001b[?25hInstalling collected packages: pdb-tools\n",
      "Successfully installed pdb-tools-2.5.0\n"
     ]
    }
   ],
   "source": [
    "# Install pdb-tools http://www.bonvinlab.org/pdb-tools/\n",
    "# p.s. you can execute bash commands in Jupyter notebook with ! sign\n",
    "\n",
    "!pip install pdb-tools"
   ]
  },
  {
   "cell_type": "code",
   "execution_count": null,
   "id": "d0eaeaf6-6d63-487b-8961-1e576e7d62fd",
   "metadata": {},
   "outputs": [],
   "source": [
    "# Download the structure using wget\n",
    "\n",
    "!wget https://files.rcsb.org/download/8efo.pdb"
   ]
  },
  {
   "cell_type": "code",
   "execution_count": null,
   "id": "638f276d-2b62-4d90-8f22-42dfdc6eaafc",
   "metadata": {},
   "outputs": [],
   "source": [
    "!pdb_selchain -R 8efo.pdb > 8efoR.pdb"
   ]
  },
  {
   "cell_type": "markdown",
   "id": "02cce6ae-5690-4363-848d-98abfe761d52",
   "metadata": {},
   "source": [
    "## Alternative - Biopython"
   ]
  },
  {
   "cell_type": "code",
   "execution_count": null,
   "id": "c23fd54f-f1ee-4f88-9a4f-091a202dfb8e",
   "metadata": {},
   "outputs": [],
   "source": [
    "# Install Biopython http://biopython.org/DIST/docs/tutorial/Tutorial.html\n",
    "# p.s. you can execute bash commands in Jupyter notebook with ! sign\n",
    "\n",
    "!pip install biopython"
   ]
  },
  {
   "cell_type": "code",
   "execution_count": null,
   "id": "d29031bf-496a-412f-b343-9f00b5e357e0",
   "metadata": {},
   "outputs": [],
   "source": [
    "# Download the structure using wget\n",
    "\n",
    "!wget https://files.rcsb.org/download/8efo.pdb"
   ]
  },
  {
   "cell_type": "code",
   "execution_count": null,
   "id": "55f9628c-7b8a-444d-a75b-fcc664ce21ed",
   "metadata": {},
   "outputs": [],
   "source": [
    "# Create PDBparser object\n",
    "\n",
    "from Bio.PDB.PDBParser import PDBParser\n",
    "p = PDBParser()"
   ]
  },
  {
   "cell_type": "code",
   "execution_count": null,
   "id": "5006b260-9447-417d-ab17-478873010e94",
   "metadata": {
    "tags": []
   },
   "outputs": [],
   "source": [
    "# Create the structure object\n",
    "# The first argument is your custom name of the structure. It is rarely handy, so you may just leave it empty.\n",
    "\n",
    "structure = p.get_structure('my_structure', '8efo.pdb')"
   ]
  },
  {
   "cell_type": "code",
   "execution_count": null,
   "id": "38fe6ffa-ccf7-4cc8-a94c-d87d8aeeffa2",
   "metadata": {},
   "outputs": [],
   "source": [
    "# select chain R of the first model\n",
    "# in X-ray and EM structures there is a single model, while in NMR there is an ensemble of models (conformers)\n",
    "\n",
    "chainR = structure[0]['R']"
   ]
  },
  {
   "cell_type": "code",
   "execution_count": null,
   "id": "ca5f0ace-5ea6-4310-816d-8ccbc3c8c006",
   "metadata": {},
   "outputs": [],
   "source": [
    "# Create PDBIO object\n",
    "\n",
    "from Bio.PDB.PDBIO import PDBIO\n",
    "io=PDBIO()"
   ]
  },
  {
   "cell_type": "code",
   "execution_count": null,
   "id": "d9e0076e-fffb-4014-92e6-d3272534defb",
   "metadata": {},
   "outputs": [],
   "source": [
    "# Write the selected chain to file\n",
    "\n",
    "io.set_structure(chainR)\n",
    "io.save('8efo_R.pdb')"
   ]
  }
 ],
 "metadata": {
  "kernelspec": {
   "display_name": "Python 3 (ipykernel)",
   "language": "python",
   "name": "python3"
  },
  "language_info": {
   "codemirror_mode": {
    "name": "ipython",
    "version": 3
   },
   "file_extension": ".py",
   "mimetype": "text/x-python",
   "name": "python",
   "nbconvert_exporter": "python",
   "pygments_lexer": "ipython3",
   "version": "3.9.12"
  }
 },
 "nbformat": 4,
 "nbformat_minor": 5
}
